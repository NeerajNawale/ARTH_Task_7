{
 "cells": [
  {
   "cell_type": "code",
   "execution_count": 1,
   "id": "0865b224",
   "metadata": {},
   "outputs": [],
   "source": [
    "import cv2"
   ]
  },
  {
   "cell_type": "code",
   "execution_count": 2,
   "id": "a963e710",
   "metadata": {},
   "outputs": [],
   "source": [
    "cap = cv2.VideoCapture(0)"
   ]
  },
  {
   "cell_type": "code",
   "execution_count": 3,
   "id": "dd60ebb8",
   "metadata": {},
   "outputs": [],
   "source": [
    "model = cv2.CascadeClassifier('haarcascade_frontalface_default.xml')"
   ]
  },
  {
   "cell_type": "code",
   "execution_count": 4,
   "id": "ba182370",
   "metadata": {},
   "outputs": [],
   "source": [
    "ret, photo = cap.read()"
   ]
  },
  {
   "cell_type": "code",
   "execution_count": 5,
   "id": "421741f6",
   "metadata": {},
   "outputs": [],
   "source": [
    "#photo"
   ]
  },
  {
   "cell_type": "code",
   "execution_count": 6,
   "id": "f969b90a",
   "metadata": {},
   "outputs": [],
   "source": [
    "while True:\n",
    "    ret, video = cap.read()\n",
    "    face = model.detectMultiScale(video)\n",
    "    if len(face) == 0:\n",
    "        pass\n",
    "#         print(\"No Face Found\")\n",
    "    else:\n",
    "        x = face[0][0]\n",
    "        y = face[0][1]\n",
    "        x1 = x+face[0][2]\n",
    "        y1 = y+face[0][3]\n",
    "        video_face = cv2.rectangle(video, (x,y), (x1,y1), [0,255,0], 5)\n",
    "        video_face[y:y+y1, x:x+x1] = cv2.GaussianBlur(video_face[y:y+y1, x:x+x1], (3,65), 35)\n",
    "        \n",
    "        cv2.imshow(\"Final Cut\", video_face)\n",
    "        if cv2.waitKey(1) == 13:\n",
    "            break\n",
    "cv2.destroyAllWindows()"
   ]
  },
  {
   "cell_type": "code",
   "execution_count": 7,
   "id": "3aa93e27",
   "metadata": {},
   "outputs": [],
   "source": [
    "cap.release()"
   ]
  },
  {
   "cell_type": "code",
   "execution_count": null,
   "id": "997e7de5",
   "metadata": {},
   "outputs": [],
   "source": []
  }
 ],
 "metadata": {
  "kernelspec": {
   "display_name": "Python 3",
   "language": "python",
   "name": "python3"
  },
  "language_info": {
   "codemirror_mode": {
    "name": "ipython",
    "version": 3
   },
   "file_extension": ".py",
   "mimetype": "text/x-python",
   "name": "python",
   "nbconvert_exporter": "python",
   "pygments_lexer": "ipython3",
   "version": "3.8.8"
  }
 },
 "nbformat": 4,
 "nbformat_minor": 5
}
